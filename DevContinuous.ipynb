{
 "cells": [
  {
   "cell_type": "code",
   "execution_count": 78,
   "metadata": {},
   "outputs": [
    {
     "name": "stdout",
     "output_type": "stream",
     "text": [
      "The autoreload extension is already loaded. To reload it, use:\n",
      "  %reload_ext autoreload\n"
     ]
    }
   ],
   "source": [
    "%load_ext autoreload\n",
    "%autoreload 2\n",
    "import numpy as np\n",
    "import tempfile\n",
    "import flategy as F\n",
    "import subprocess\n",
    "import multiprocessing\n",
    "import os\n",
    "import time\n",
    "import cairo\n",
    "import math\n",
    "import io\n",
    "import enum\n",
    "import IPython.display\n",
    "from IPython.display import display, SVG, Video"
   ]
  },
  {
   "cell_type": "code",
   "execution_count": 79,
   "metadata": {},
   "outputs": [],
   "source": [
    "class UnitType(enum.Enum):\n",
    "    BLOCK = 1\n",
    "    OBJECTIVE = 2\n",
    "    HEADQUARTERS = 3\n",
    "    TURRET = 4\n",
    "    MELEE = 5\n",
    "    RANGED = 6\n",
    "    FAST = 7\n",
    "\n",
    "class InstructionType(enum.Enum):\n",
    "    STOP = 1\n",
    "    DEFEND = 2\n",
    "    MOVE = 3\n",
    "    ATTACK = 4"
   ]
  },
  {
   "cell_type": "code",
   "execution_count": 80,
   "metadata": {},
   "outputs": [],
   "source": [
    "def get_collisions(base_position, position, base_radius, radius):\n",
    "    return ((position[:, np.newaxis] - base_position[np.newaxis]) ** 2).sum(-1) < (radius[:, np.newaxis] + base_radius[np.newaxis]) ** 2\n",
    "\n",
    "def move(state, delta):\n",
    "    \"\"\"Move objects, with basic collision avoidance with backtracking.\"\"\"\n",
    "    new_position = np.clip(state.position + delta,\n",
    "                           state.world_shape[0] + state.radius[..., np.newaxis],\n",
    "                           state.world_shape[1] - state.radius[..., np.newaxis])\n",
    "    not_self = ~np.eye(len(state.position), dtype=np.bool)\n",
    "    old_collisions = get_collisions(new_position, state.position, state.radius, state.radius) * not_self\n",
    "    new_collisions = get_collisions(new_position, new_position, state.radius, state.radius) * not_self\n",
    "    position = np.where(new_collisions.sum(-1) | old_collisions.sum(-1) | old_collisions.sum(-2), state.position, new_position)\n",
    "    return state.replace(position=position)"
   ]
  },
  {
   "cell_type": "code",
   "execution_count": 81,
   "metadata": {},
   "outputs": [
    {
     "data": {
      "text/html": [
       "<video src=\"eg_new.mp4\" controls  >\n",
       "      Your browser does not support the <code>video</code> element.\n",
       "    </video>"
      ],
      "text/plain": [
       "<IPython.core.display.Video object>"
      ]
     },
     "execution_count": 81,
     "metadata": {},
     "output_type": "execute_result"
    }
   ],
   "source": [
    "state = F.State(\n",
    "    position=np.array([[0.1, 0.5], [1, 0.5]]),\n",
    "    radius=np.array([0.05, 0.2]),\n",
    "    world_shape=np.array([[0, 0], [2, 1]]),\n",
    ")\n",
    "\n",
    "delta = 0.002 * np.array([[1, 0], [0, 0]])\n",
    "\n",
    "states = []\n",
    "for n in range(501):\n",
    "    state = move(state, delta)\n",
    "    if n % 10 == 0:\n",
    "        states.append(state)\n",
    "F.State.video(states, 'eg_new.mp4', 0.1, 256)"
   ]
  }
 ],
 "metadata": {
  "kernelspec": {
   "display_name": "Python 3",
   "language": "python",
   "name": "python3"
  },
  "language_info": {
   "codemirror_mode": {
    "name": "ipython",
    "version": 3
   },
   "file_extension": ".py",
   "mimetype": "text/x-python",
   "name": "python",
   "nbconvert_exporter": "python",
   "pygments_lexer": "ipython3",
   "version": "3.6.7"
  }
 },
 "nbformat": 4,
 "nbformat_minor": 2
}
