{
 "cells": [
  {
   "cell_type": "code",
   "execution_count": 31,
   "metadata": {},
   "outputs": [],
   "source": [
    "!flatc --python --cpp --gen-object-api --object-prefix Foo -o example example.fbs"
   ]
  },
  {
   "cell_type": "code",
   "execution_count": 17,
   "metadata": {},
   "outputs": [],
   "source": [
    "import example.flategy_data as F\n",
    "import example.flategy_data.Unit\n",
    "import example.flategy_data.UnitType\n",
    "import example.flategy_data.UnitInstruction\n",
    "import example.flategy_data.Instruction\n",
    "import example.flategy_data.StopInstruction\n",
    "import example.flategy_data.Vec2\n",
    "import flatbuffers"
   ]
  },
  {
   "cell_type": "code",
   "execution_count": 33,
   "metadata": {},
   "outputs": [
    {
     "data": {
      "text/plain": [
       "200"
      ]
     },
     "execution_count": 33,
     "metadata": {},
     "output_type": "execute_result"
    }
   ],
   "source": [
    "builder = flatbuffers.Builder(300)\n",
    "\n",
    "F.StopInstruction.StopInstructionStart(builder)\n",
    "stop = F.StopInstruction.StopInstructionEnd(builder)\n",
    "\n",
    "F.UnitInstruction.UnitInstructionStart(builder)\n",
    "F.UnitInstruction.UnitInstructionAddInstruction(builder, stop)\n",
    "F.UnitInstruction.UnitInstructionAddInstructionType(builder, F.Instruction.Instruction.StopInstruction)\n",
    "instruction = F.UnitInstruction.UnitInstructionEnd(builder)\n",
    "\n",
    "F.Unit.UnitStartInstructionsVector(builder, 1)\n",
    "builder.PrependUOffsetTRelative(instruction)\n",
    "instructions = builder.EndVector(1)\n",
    "\n",
    "F.Unit.UnitStart(builder)\n",
    "F.Unit.UnitAddId(builder, 1)\n",
    "F.Unit.UnitAddOwner(builder, 2)\n",
    "F.Unit.UnitAddType(builder, F.UnitType.UnitType.Fast)\n",
    "\n",
    "F.Unit.UnitAddInstructions(builder, instructions)\n",
    "\n",
    "F.Unit.UnitAddPosition(builder, F.Vec2.CreateVec2(builder, 100, 200))\n",
    "F.Unit.UnitAddRadius(builder, 4)\n",
    "F.Unit.UnitAddOrientation(builder, 0.1)\n",
    "F.Unit.UnitAddHealth(builder, 100)\n",
    "end = F.Unit.UnitEnd(builder)\n",
    "\n",
    "builder.Finish(end)"
   ]
  },
  {
   "cell_type": "code",
   "execution_count": 28,
   "metadata": {},
   "outputs": [
    {
     "data": {
      "text/plain": [
       "(1, 2, 6, [1], (100.0, 200.0), 4.0, 0.10000000149011612, 100.0)"
      ]
     },
     "execution_count": 28,
     "metadata": {},
     "output_type": "execute_result"
    }
   ],
   "source": [
    "unit = F.Unit.Unit.GetRootAsUnit(builder.Bytes, builder.Head())\n",
    "(unit.Id(),\n",
    " unit.Owner(),\n",
    " unit.Type(),\n",
    " [unit.Instructions(i).InstructionType() for i in range(unit.InstructionsLength())],\n",
    " (unit.Position().X(), unit.Position().Y()),\n",
    " unit.Radius(),\n",
    " unit.Orientation(),\n",
    " unit.Health())"
   ]
  },
  {
   "cell_type": "code",
   "execution_count": null,
   "metadata": {},
   "outputs": [],
   "source": []
  }
 ],
 "metadata": {
  "kernelspec": {
   "display_name": "Python 3",
   "language": "python",
   "name": "python3"
  },
  "language_info": {
   "codemirror_mode": {
    "name": "ipython",
    "version": 3
   },
   "file_extension": ".py",
   "mimetype": "text/x-python",
   "name": "python",
   "nbconvert_exporter": "python",
   "pygments_lexer": "ipython3",
   "version": "3.6.7"
  }
 },
 "nbformat": 4,
 "nbformat_minor": 2
}
